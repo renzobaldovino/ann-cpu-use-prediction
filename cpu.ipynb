{
 "cells": [
  {
   "attachments": {},
   "cell_type": "markdown",
   "metadata": {},
   "source": [
    "### Importing Libraries"
   ]
  },
  {
   "cell_type": "code",
   "execution_count": 1,
   "metadata": {},
   "outputs": [],
   "source": [
    "import numpy as np\n",
    "import pandas as pd\n",
    "import matplotlib.pyplot as plt"
   ]
  },
  {
   "attachments": {},
   "cell_type": "markdown",
   "metadata": {},
   "source": [
    "### Importing the Dataset"
   ]
  },
  {
   "cell_type": "code",
   "execution_count": 2,
   "metadata": {},
   "outputs": [
    {
     "data": {
      "text/html": [
       "<div>\n",
       "<style scoped>\n",
       "    .dataframe tbody tr th:only-of-type {\n",
       "        vertical-align: middle;\n",
       "    }\n",
       "\n",
       "    .dataframe tbody tr th {\n",
       "        vertical-align: top;\n",
       "    }\n",
       "\n",
       "    .dataframe thead th {\n",
       "        text-align: right;\n",
       "    }\n",
       "</style>\n",
       "<table border=\"1\" class=\"dataframe\">\n",
       "  <thead>\n",
       "    <tr style=\"text-align: right;\">\n",
       "      <th></th>\n",
       "      <th>ITEM NO.</th>\n",
       "      <th>CPU</th>\n",
       "      <th>RAM</th>\n",
       "      <th>Type of Storage</th>\n",
       "      <th>Storage Capacity</th>\n",
       "      <th>GPU</th>\n",
       "      <th>Target Usage</th>\n",
       "    </tr>\n",
       "  </thead>\n",
       "  <tbody>\n",
       "    <tr>\n",
       "      <th>0</th>\n",
       "      <td>2021-9301</td>\n",
       "      <td>Ryzen 5</td>\n",
       "      <td>4GB</td>\n",
       "      <td>SSD</td>\n",
       "      <td>500GB</td>\n",
       "      <td>NO</td>\n",
       "      <td>Office</td>\n",
       "    </tr>\n",
       "    <tr>\n",
       "      <th>1</th>\n",
       "      <td>2021-9302</td>\n",
       "      <td>Ryzen 5</td>\n",
       "      <td>16GB</td>\n",
       "      <td>SSD</td>\n",
       "      <td>500GB</td>\n",
       "      <td>6GB</td>\n",
       "      <td>GAMING</td>\n",
       "    </tr>\n",
       "    <tr>\n",
       "      <th>2</th>\n",
       "      <td>2021-9303</td>\n",
       "      <td>Ryzen 3</td>\n",
       "      <td>4GB</td>\n",
       "      <td>HDD</td>\n",
       "      <td>1TB</td>\n",
       "      <td>NO</td>\n",
       "      <td>Office</td>\n",
       "    </tr>\n",
       "    <tr>\n",
       "      <th>3</th>\n",
       "      <td>2021-9304</td>\n",
       "      <td>Ryzen 5</td>\n",
       "      <td>16GB</td>\n",
       "      <td>SSD</td>\n",
       "      <td>1TB</td>\n",
       "      <td>4GB</td>\n",
       "      <td>GAMING</td>\n",
       "    </tr>\n",
       "    <tr>\n",
       "      <th>4</th>\n",
       "      <td>2021-9305</td>\n",
       "      <td>Pentium</td>\n",
       "      <td>16GB</td>\n",
       "      <td>HDD</td>\n",
       "      <td>500GB</td>\n",
       "      <td>6GB</td>\n",
       "      <td>Office</td>\n",
       "    </tr>\n",
       "  </tbody>\n",
       "</table>\n",
       "</div>"
      ],
      "text/plain": [
       "    ITEM NO.      CPU   RAM Type of Storage Storage Capacity  GPU   \\\n",
       "0  2021-9301  Ryzen 5   4GB             SSD            500GB    NO   \n",
       "1  2021-9302  Ryzen 5  16GB             SSD            500GB  6GB    \n",
       "2  2021-9303  Ryzen 3   4GB             HDD              1TB    NO   \n",
       "3  2021-9304  Ryzen 5  16GB             SSD              1TB  4GB    \n",
       "4  2021-9305  Pentium  16GB             HDD            500GB   6GB   \n",
       "\n",
       "  Target Usage  \n",
       "0       Office  \n",
       "1       GAMING  \n",
       "2       Office  \n",
       "3       GAMING  \n",
       "4       Office  "
      ]
     },
     "execution_count": 2,
     "metadata": {},
     "output_type": "execute_result"
    }
   ],
   "source": [
    "url = 'https://drive.google.com/file/d/1zpWMM5dLIJ03JlytRfqCsIHkW0P_G4Pn/view'\n",
    "df_cpu = pd.read_csv('https://drive.google.com/uc?id=' + url.split('/')[-2])\n",
    "df_cpu.head()"
   ]
  },
  {
   "attachments": {},
   "cell_type": "markdown",
   "metadata": {},
   "source": [
    "Before proceeding, the column names are checked so that it will be easier to access when exploring the data and creating the deep learning model."
   ]
  },
  {
   "cell_type": "code",
   "execution_count": 3,
   "metadata": {},
   "outputs": [
    {
     "name": "stdout",
     "output_type": "stream",
     "text": [
      "['ITEM NO.', 'CPU', 'RAM', 'Type of Storage', 'Storage Capacity', 'GPU ', 'Target Usage']\n"
     ]
    }
   ],
   "source": [
    "print(df_cpu.columns.tolist())"
   ]
  },
  {
   "attachments": {},
   "cell_type": "markdown",
   "metadata": {},
   "source": [
    "Since there is an unnecessary whitespace in the `GPU` column name, we will remove the whitespace and rename the column."
   ]
  },
  {
   "cell_type": "code",
   "execution_count": 4,
   "metadata": {},
   "outputs": [],
   "source": [
    "df_cpu.rename(columns={'GPU ': 'GPU'}, inplace=True)"
   ]
  },
  {
   "attachments": {},
   "cell_type": "markdown",
   "metadata": {},
   "source": [
    "We will also remove the leading and trailing whitespaces in the column values."
   ]
  },
  {
   "cell_type": "code",
   "execution_count": 5,
   "metadata": {},
   "outputs": [],
   "source": [
    "# Stripping the whitespaces in the columns\n",
    "\n",
    "df_cpu['CPU'] = df_cpu['CPU'].str.strip()\n",
    "df_cpu['RAM'] = df_cpu['RAM'].str.strip()\n",
    "df_cpu['Type of Storage'] = df_cpu['Type of Storage'].str.strip()\n",
    "df_cpu['Storage Capacity'] = df_cpu['Storage Capacity'].str.strip()\n",
    "df_cpu['GPU'] = df_cpu['GPU'].str.strip()"
   ]
  },
  {
   "attachments": {},
   "cell_type": "markdown",
   "metadata": {},
   "source": [
    "### Handling Null Values\n",
    "Next, we will check if there are any null values in the dataset. This is done to verify the quality of the data before the Exploratory Data Analysis and the creation of the Deep Learning Model."
   ]
  },
  {
   "cell_type": "code",
   "execution_count": 6,
   "metadata": {},
   "outputs": [
    {
     "data": {
      "text/html": [
       "<div>\n",
       "<style scoped>\n",
       "    .dataframe tbody tr th:only-of-type {\n",
       "        vertical-align: middle;\n",
       "    }\n",
       "\n",
       "    .dataframe tbody tr th {\n",
       "        vertical-align: top;\n",
       "    }\n",
       "\n",
       "    .dataframe thead th {\n",
       "        text-align: right;\n",
       "    }\n",
       "</style>\n",
       "<table border=\"1\" class=\"dataframe\">\n",
       "  <thead>\n",
       "    <tr style=\"text-align: right;\">\n",
       "      <th></th>\n",
       "      <th>ITEM NO.</th>\n",
       "      <th>CPU</th>\n",
       "      <th>RAM</th>\n",
       "      <th>Type of Storage</th>\n",
       "      <th>Storage Capacity</th>\n",
       "      <th>GPU</th>\n",
       "      <th>Target Usage</th>\n",
       "    </tr>\n",
       "  </thead>\n",
       "  <tbody>\n",
       "    <tr>\n",
       "      <th>5</th>\n",
       "      <td>2021-9306</td>\n",
       "      <td>i7</td>\n",
       "      <td>4GB</td>\n",
       "      <td>SSD</td>\n",
       "      <td>NaN</td>\n",
       "      <td>NO</td>\n",
       "      <td>Office</td>\n",
       "    </tr>\n",
       "    <tr>\n",
       "      <th>26</th>\n",
       "      <td>2021-9327</td>\n",
       "      <td>Pentium</td>\n",
       "      <td>NaN</td>\n",
       "      <td>HDD</td>\n",
       "      <td>500GB</td>\n",
       "      <td>4GB</td>\n",
       "      <td>Office</td>\n",
       "    </tr>\n",
       "    <tr>\n",
       "      <th>30</th>\n",
       "      <td>2021-9331</td>\n",
       "      <td>Ryzen 5</td>\n",
       "      <td>4GB</td>\n",
       "      <td>HDD</td>\n",
       "      <td>1TB</td>\n",
       "      <td>NaN</td>\n",
       "      <td>Office</td>\n",
       "    </tr>\n",
       "    <tr>\n",
       "      <th>44</th>\n",
       "      <td>2021-9345</td>\n",
       "      <td>i7</td>\n",
       "      <td>8GB</td>\n",
       "      <td>NaN</td>\n",
       "      <td>500GB</td>\n",
       "      <td>6GB</td>\n",
       "      <td>GAMING</td>\n",
       "    </tr>\n",
       "  </tbody>\n",
       "</table>\n",
       "</div>"
      ],
      "text/plain": [
       "     ITEM NO.      CPU  RAM Type of Storage Storage Capacity  GPU Target Usage\n",
       "5   2021-9306       i7  4GB             SSD              NaN   NO       Office\n",
       "26  2021-9327  Pentium  NaN             HDD            500GB  4GB       Office\n",
       "30  2021-9331  Ryzen 5  4GB             HDD              1TB  NaN       Office\n",
       "44  2021-9345       i7  8GB             NaN            500GB  6GB       GAMING"
      ]
     },
     "execution_count": 6,
     "metadata": {},
     "output_type": "execute_result"
    }
   ],
   "source": [
    "df_cpu[df_cpu.isnull().any(axis=1)] # Displays records that have missing values in any column"
   ]
  },
  {
   "attachments": {},
   "cell_type": "markdown",
   "metadata": {},
   "source": [
    "We can also check the shape of the DataFrame and compare it with the number of rows with null values."
   ]
  },
  {
   "cell_type": "code",
   "execution_count": 7,
   "metadata": {},
   "outputs": [
    {
     "data": {
      "text/plain": [
       "(50, 7)"
      ]
     },
     "execution_count": 7,
     "metadata": {},
     "output_type": "execute_result"
    }
   ],
   "source": [
    "df_cpu.shape # Displays the number of rows and columns in the dataframe"
   ]
  },
  {
   "attachments": {},
   "cell_type": "markdown",
   "metadata": {},
   "source": [
    "### Cleaning the Null Values\n",
    "\n",
    "The dataset has a total of 50 rows and 7 columns. There are only 4 instances of null values and these appeared randomly in the dataset. Since the number of missing values are relatively small, we can simply drop the rows with null values"
   ]
  },
  {
   "cell_type": "code",
   "execution_count": 8,
   "metadata": {},
   "outputs": [
    {
     "data": {
      "text/plain": [
       "ITEM NO.            0\n",
       "CPU                 0\n",
       "RAM                 0\n",
       "Type of Storage     0\n",
       "Storage Capacity    0\n",
       "GPU                 0\n",
       "Target Usage        0\n",
       "dtype: int64"
      ]
     },
     "execution_count": 8,
     "metadata": {},
     "output_type": "execute_result"
    }
   ],
   "source": [
    "df_cpu.dropna(inplace=True)\n",
    "df_cpu.isnull().sum()"
   ]
  },
  {
   "attachments": {},
   "cell_type": "markdown",
   "metadata": {},
   "source": [
    "### Descriptive Statistics"
   ]
  },
  {
   "cell_type": "code",
   "execution_count": 9,
   "metadata": {},
   "outputs": [
    {
     "data": {
      "text/plain": [
       "ITEM NO.            46\n",
       "CPU                 46\n",
       "RAM                 46\n",
       "Type of Storage     46\n",
       "Storage Capacity    46\n",
       "GPU                 46\n",
       "Target Usage        46\n",
       "dtype: int64"
      ]
     },
     "execution_count": 9,
     "metadata": {},
     "output_type": "execute_result"
    }
   ],
   "source": [
    "df_cpu.count()"
   ]
  },
  {
   "cell_type": "code",
   "execution_count": 10,
   "metadata": {},
   "outputs": [
    {
     "data": {
      "text/html": [
       "<div>\n",
       "<style scoped>\n",
       "    .dataframe tbody tr th:only-of-type {\n",
       "        vertical-align: middle;\n",
       "    }\n",
       "\n",
       "    .dataframe tbody tr th {\n",
       "        vertical-align: top;\n",
       "    }\n",
       "\n",
       "    .dataframe thead th {\n",
       "        text-align: right;\n",
       "    }\n",
       "</style>\n",
       "<table border=\"1\" class=\"dataframe\">\n",
       "  <thead>\n",
       "    <tr style=\"text-align: right;\">\n",
       "      <th></th>\n",
       "      <th>ITEM NO.</th>\n",
       "      <th>CPU</th>\n",
       "      <th>RAM</th>\n",
       "      <th>Type of Storage</th>\n",
       "      <th>Storage Capacity</th>\n",
       "      <th>GPU</th>\n",
       "      <th>Target Usage</th>\n",
       "    </tr>\n",
       "  </thead>\n",
       "  <tbody>\n",
       "    <tr>\n",
       "      <th>count</th>\n",
       "      <td>46</td>\n",
       "      <td>46</td>\n",
       "      <td>46</td>\n",
       "      <td>46</td>\n",
       "      <td>46</td>\n",
       "      <td>46</td>\n",
       "      <td>46</td>\n",
       "    </tr>\n",
       "    <tr>\n",
       "      <th>unique</th>\n",
       "      <td>46</td>\n",
       "      <td>7</td>\n",
       "      <td>3</td>\n",
       "      <td>2</td>\n",
       "      <td>2</td>\n",
       "      <td>3</td>\n",
       "      <td>2</td>\n",
       "    </tr>\n",
       "    <tr>\n",
       "      <th>top</th>\n",
       "      <td>2021-9301</td>\n",
       "      <td>Pentium</td>\n",
       "      <td>4GB</td>\n",
       "      <td>SSD</td>\n",
       "      <td>500GB</td>\n",
       "      <td>NO</td>\n",
       "      <td>Office</td>\n",
       "    </tr>\n",
       "    <tr>\n",
       "      <th>freq</th>\n",
       "      <td>1</td>\n",
       "      <td>10</td>\n",
       "      <td>17</td>\n",
       "      <td>29</td>\n",
       "      <td>23</td>\n",
       "      <td>17</td>\n",
       "      <td>24</td>\n",
       "    </tr>\n",
       "  </tbody>\n",
       "</table>\n",
       "</div>"
      ],
      "text/plain": [
       "         ITEM NO.      CPU  RAM Type of Storage Storage Capacity GPU  \\\n",
       "count          46       46   46              46               46  46   \n",
       "unique         46        7    3               2                2   3   \n",
       "top     2021-9301  Pentium  4GB             SSD            500GB  NO   \n",
       "freq            1       10   17              29               23  17   \n",
       "\n",
       "       Target Usage  \n",
       "count            46  \n",
       "unique            2  \n",
       "top          Office  \n",
       "freq             24  "
      ]
     },
     "execution_count": 10,
     "metadata": {},
     "output_type": "execute_result"
    }
   ],
   "source": [
    "df_cpu.describe()"
   ]
  },
  {
   "attachments": {},
   "cell_type": "markdown",
   "metadata": {},
   "source": [
    "### Exploratory Data Analysis\n",
    "\n",
    "We will explore the most used `CPU`, `RAM`, `Type of Storage`, `Storage Capacity`, and `GPU` for the two `Target Usage`. We can use these data later when testing our Deep Learning Model."
   ]
  },
  {
   "cell_type": "code",
   "execution_count": 11,
   "metadata": {},
   "outputs": [
    {
     "data": {
      "text/plain": [
       "i9         7\n",
       "Ryzen 5    4\n",
       "Ryzen 7    4\n",
       "Ryzen 3    3\n",
       "i5         2\n",
       "i7         2\n",
       "Name: CPU, dtype: int64"
      ]
     },
     "execution_count": 11,
     "metadata": {},
     "output_type": "execute_result"
    },
    {
     "data": {
      "image/png": "[encoded data removed]",
      "text/plain": [
       "<Figure size 640x480 with 1 Axes>"
      ]
     },
     "metadata": {},
     "output_type": "display_data"
    }
   ],
   "source": [
    "# Most used CPU for Gaming\n",
    "df_cpu[\"CPU\"][df_cpu[\"Target Usage\"] == \"GAMING\"].value_counts().plot(kind='bar', title='Most used CPU for Gamming')\n",
    "df_cpu[\"CPU\"][df_cpu[\"Target Usage\"] == \"GAMING\"].value_counts()"
   ]
  },
  {
   "cell_type": "code",
   "execution_count": 12,
   "metadata": {},
   "outputs": [
    {
     "data": {
      "text/plain": [
       "16GB    14\n",
       "8GB      8\n",
       "Name: RAM, dtype: int64"
      ]
     },
     "execution_count": 12,
     "metadata": {},
     "output_type": "execute_result"
    },
    {
     "data": {
      "image/png": "[encoded data removed]",
      "text/plain": [
       "<Figure size 640x480 with 1 Axes>"
      ]
     },
     "metadata": {},
     "output_type": "display_data"
    }
   ],
   "source": [
    "# Most used RAM for Gaming\n",
    "df_cpu[\"RAM\"][df_cpu[\"Target Usage\"] == \"GAMING\"].value_counts().plot(kind='bar', title='Most used RAM for Gaming')\n",
    "df_cpu[\"RAM\"][df_cpu[\"Target Usage\"] == \"GAMING\"].value_counts()"
   ]
  },
  {
   "cell_type": "code",
   "execution_count": 13,
   "metadata": {},
   "outputs": [
    {
     "data": {
      "text/plain": [
       "SSD    20\n",
       "HDD     2\n",
       "Name: Type of Storage, dtype: int64"
      ]
     },
     "execution_count": 13,
     "metadata": {},
     "output_type": "execute_result"
    },
    {
     "data": {
      "image/png": "[encoded data removed]",
      "text/plain": [
       "<Figure size 640x480 with 1 Axes>"
      ]
     },
     "metadata": {},
     "output_type": "display_data"
    }
   ],
   "source": [
    "# Most used Type of Storage for Gaming\n",
    "df_cpu[\"Type of Storage\"][df_cpu[\"Target Usage\"] == \"GAMING\"].value_counts().plot(kind='bar', title='Most used Type of Storage for Gaming')\n",
    "df_cpu[\"Type of Storage\"][df_cpu[\"Target Usage\"] == \"GAMING\"].value_counts()"
   ]
  },
  {
   "cell_type": "code",
   "execution_count": 14,
   "metadata": {},
   "outputs": [
    {
     "data": {
      "text/plain": [
       "1TB      12\n",
       "500GB    10\n",
       "Name: Storage Capacity, dtype: int64"
      ]
     },
     "execution_count": 14,
     "metadata": {},
     "output_type": "execute_result"
    },
    {
     "data": {
      "image/png": "[encoded data removed]",
      "text/plain": [
       "<Figure size 640x480 with 1 Axes>"
      ]
     },
     "metadata": {},
     "output_type": "display_data"
    }
   ],
   "source": [
    "# Most used Storage Capacity for Gaming\n",
    "df_cpu[\"Storage Capacity\"][df_cpu[\"Target Usage\"] == \"GAMING\"].value_counts().plot(kind='bar', title='Most used Storage Capacity for Gaming')\n",
    "df_cpu[\"Storage Capacity\"][df_cpu[\"Target Usage\"] == \"GAMING\"].value_counts()"
   ]
  },
  {
   "cell_type": "code",
   "execution_count": 15,
   "metadata": {},
   "outputs": [
    {
     "data": {
      "text/plain": [
       "6GB    12\n",
       "4GB    10\n",
       "Name: GPU, dtype: int64"
      ]
     },
     "execution_count": 15,
     "metadata": {},
     "output_type": "execute_result"
    },
    {
     "data": {
      "image/png": "[encoded data removed]",
      "text/plain": [
       "<Figure size 640x480 with 1 Axes>"
      ]
     },
     "metadata": {},
     "output_type": "display_data"
    }
   ],
   "source": [
    "# Most used GPU for Gaming\n",
    "df_cpu[\"GPU\"][df_cpu[\"Target Usage\"] == \"GAMING\"].value_counts().plot(kind='bar', title='Most used GPU for Gaming')\n",
    "df_cpu[\"GPU\"][df_cpu[\"Target Usage\"] == \"GAMING\"].value_counts()"
   ]
  },
  {
   "cell_type": "code",
   "execution_count": 16,
   "metadata": {},
   "outputs": [
    {
     "data": {
      "text/plain": [
       "Pentium    10\n",
       "Ryzen 5     4\n",
       "Ryzen 3     2\n",
       "i7          2\n",
       "Ryzen 7     2\n",
       "i9          2\n",
       "i5          2\n",
       "Name: CPU, dtype: int64"
      ]
     },
     "execution_count": 16,
     "metadata": {},
     "output_type": "execute_result"
    },
    {
     "data": {
      "image/png": "[encoded data removed]",
      "text/plain": [
       "<Figure size 640x480 with 1 Axes>"
      ]
     },
     "metadata": {},
     "output_type": "display_data"
    }
   ],
   "source": [
    "# Most used CPU for Office\n",
    "df_cpu[\"CPU\"][df_cpu[\"Target Usage\"] == \"Office\"].value_counts().plot(kind='bar', title='Most used CPU for Office')\n",
    "df_cpu[\"CPU\"][df_cpu[\"Target Usage\"] == \"Office\"].value_counts()"
   ]
  },
  {
   "cell_type": "code",
   "execution_count": 17,
   "metadata": {},
   "outputs": [
    {
     "data": {
      "text/plain": [
       "4GB     17\n",
       "8GB      4\n",
       "16GB     3\n",
       "Name: RAM, dtype: int64"
      ]
     },
     "execution_count": 17,
     "metadata": {},
     "output_type": "execute_result"
    },
    {
     "data": {
      "image/png": "[encoded data removed]",
      "text/plain": [
       "<Figure size 640x480 with 1 Axes>"
      ]
     },
     "metadata": {},
     "output_type": "display_data"
    }
   ],
   "source": [
    "# Most used RAM for Office\n",
    "df_cpu[\"RAM\"][df_cpu[\"Target Usage\"] == \"Office\"].value_counts().plot(kind='bar', title='Most used RAM for Office')\n",
    "df_cpu[\"RAM\"][df_cpu[\"Target Usage\"] == \"Office\"].value_counts()"
   ]
  },
  {
   "cell_type": "code",
   "execution_count": 18,
   "metadata": {},
   "outputs": [
    {
     "data": {
      "text/plain": [
       "HDD    15\n",
       "SSD     9\n",
       "Name: Type of Storage, dtype: int64"
      ]
     },
     "execution_count": 18,
     "metadata": {},
     "output_type": "execute_result"
    },
    {
     "data": {
      "image/png": "[encoded data removed]",
      "text/plain": [
       "<Figure size 640x480 with 1 Axes>"
      ]
     },
     "metadata": {},
     "output_type": "display_data"
    }
   ],
   "source": [
    "# Most used Type of Storage for Office\n",
    "df_cpu[\"Type of Storage\"][df_cpu[\"Target Usage\"] == \"Office\"].value_counts().plot(kind='bar', title='Most used Type of Storage for Office')\n",
    "df_cpu[\"Type of Storage\"][df_cpu[\"Target Usage\"] == \"Office\"].value_counts()"
   ]
  },
  {
   "cell_type": "code",
   "execution_count": 19,
   "metadata": {},
   "outputs": [
    {
     "data": {
      "text/plain": [
       "500GB    13\n",
       "1TB      11\n",
       "Name: Storage Capacity, dtype: int64"
      ]
     },
     "execution_count": 19,
     "metadata": {},
     "output_type": "execute_result"
    },
    {
     "data": {
      "image/png": "[encoded data removed]",
      "text/plain": [
       "<Figure size 640x480 with 1 Axes>"
      ]
     },
     "metadata": {},
     "output_type": "display_data"
    }
   ],
   "source": [
    "# Most used Storage Capacity for Office\n",
    "df_cpu[\"Storage Capacity\"][df_cpu[\"Target Usage\"] == \"Office\"].value_counts().plot(kind='bar', title='Most used Storage Capacity for Office')\n",
    "df_cpu[\"Storage Capacity\"][df_cpu[\"Target Usage\"] == \"Office\"].value_counts()"
   ]
  },
  {
   "cell_type": "code",
   "execution_count": 20,
   "metadata": {},
   "outputs": [
    {
     "data": {
      "text/plain": [
       "NO     17\n",
       "6GB     4\n",
       "4GB     3\n",
       "Name: GPU, dtype: int64"
      ]
     },
     "execution_count": 20,
     "metadata": {},
     "output_type": "execute_result"
    },
    {
     "data": {
      "image/png": "[encoded data removed]",
      "text/plain": [
       "<Figure size 640x480 with 1 Axes>"
      ]
     },
     "metadata": {},
     "output_type": "display_data"
    }
   ],
   "source": [
    "# Most used GPU for Office\n",
    "df_cpu[\"GPU\"][df_cpu[\"Target Usage\"] == \"Office\"].value_counts().plot(kind='bar', title='Most used GPU for Office')\n",
    "df_cpu[\"GPU\"][df_cpu[\"Target Usage\"] == \"Office\"].value_counts()"
   ]
  },
  {
   "attachments": {},
   "cell_type": "markdown",
   "metadata": {},
   "source": [
    "### Substituting String Values with Integers\n",
    "This is done since the deep learning model only accepts numerical inputs."
   ]
  },
  {
   "cell_type": "code",
   "execution_count": 21,
   "metadata": {},
   "outputs": [],
   "source": [
    "# Substituting the string values with numeric values\n",
    "\n",
    "df_cpu[\"CPU\"].replace({\"Pentium\": 0, \"i5\": 1, \"i7\": 2, \"i9\": 3, \"Ryzen 3\": 4, \"Ryzen 5\": 5, \"Ryzen 7\": 6}, inplace=True)\n",
    "df_cpu[\"RAM\"].replace({\"4GB\": 0, \"8GB\": 1, \"16GB\": 2}, inplace=True)\n",
    "df_cpu[\"Type of Storage\"].replace({\"SSD\": 0, \"HDD\": 1}, inplace=True)\n",
    "df_cpu[\"Storage Capacity\"].replace({\"1TB\": 0, \"500GB\": 1}, inplace=True)\n",
    "df_cpu[\"GPU\"].replace({\"NO\": 0, \"4GB\": 1, \"6GB\": 2}, inplace=True)\n",
    "df_cpu[\"Target Usage\"].replace({\"Office\": 0, \"GAMING\": 1}, inplace=True)"
   ]
  },
  {
   "attachments": {},
   "cell_type": "markdown",
   "metadata": {},
   "source": [
    "### Creating the Deep Learning Model\n",
    "#### Splitting the Data\n",
    "Before creating the deep learning model, we need to first define the the independent (X) and the dependent (Y) variables. The independent variables will be the `CPU`, `RAM`, `Type of Storage`, `Storage Capacity`, and `GPU` while the dependent variable will be the `Target Usage`."
   ]
  },
  {
   "cell_type": "code",
   "execution_count": 22,
   "metadata": {},
   "outputs": [],
   "source": [
    "X = df_cpu.drop(['ITEM NO.','Target Usage'], axis=1)\n",
    "Y = df_cpu['Target Usage']"
   ]
  },
  {
   "attachments": {},
   "cell_type": "markdown",
   "metadata": {},
   "source": [
    "After defining the independent and dependent variables, we will split the dataset into the training and testing sets by importing the `train_test_split` from `sklearn.model_selection`. The X_train  and Y_train would be used to train the model and the X_test would be used as input to evaluate the model. When splitting the testing and training sets 80:20 ratio would be used as it is commonly utilized."
   ]
  },
  {
   "cell_type": "code",
   "execution_count": 23,
   "metadata": {},
   "outputs": [],
   "source": [
    "from sklearn.model_selection import train_test_split"
   ]
  },
  {
   "cell_type": "code",
   "execution_count": 24,
   "metadata": {},
   "outputs": [],
   "source": [
    "# Splitting the dataset into training and testing sets\n",
    "X_train, X_test, Y_train, Y_test = train_test_split(X, Y, test_size=0.2, random_state=10, shuffle=True)"
   ]
  },
  {
   "cell_type": "code",
   "execution_count": 25,
   "metadata": {},
   "outputs": [
    {
     "data": {
      "text/plain": [
       "((36, 5), (36,))"
      ]
     },
     "execution_count": 25,
     "metadata": {},
     "output_type": "execute_result"
    }
   ],
   "source": [
    "# Displaying the shapes of the training sets\n",
    "X_train.shape, Y_train.shape"
   ]
  },
  {
   "cell_type": "code",
   "execution_count": 26,
   "metadata": {},
   "outputs": [
    {
     "data": {
      "text/plain": [
       "((10, 5), (10,))"
      ]
     },
     "execution_count": 26,
     "metadata": {},
     "output_type": "execute_result"
    }
   ],
   "source": [
    "# Displaying the shapes of the training sets\n",
    "X_test.shape, Y_test.shape"
   ]
  },
  {
   "attachments": {},
   "cell_type": "markdown",
   "metadata": {},
   "source": [
    "#### Defining the Model\n",
    "Since the goal of the deep learning model is to classify whether the computer specifications are suitable for either office or gaming use, we will create a Neural Network for Binary Classification.\n",
    "\n",
    "First, we will import the TensorFlow and Keras libraries."
   ]
  },
  {
   "cell_type": "code",
   "execution_count": 27,
   "metadata": {},
   "outputs": [],
   "source": [
    "import tensorflow as tf\n",
    "from tensorflow import keras\n",
    "from tensorflow.keras import layers"
   ]
  },
  {
   "attachments": {},
   "cell_type": "markdown",
   "metadata": {},
   "source": [
    "For the model, we will define three hidden layers where the first layer has 25 nodes, the second layer has 20 nodes, and the third layer has 20 nodes. The activation function which will be used for the three hidden layers is `ReLU`. The `Rectified Linear Unit` or `ReLU` is used as it accelerates the convergence of the model.\n",
    "\n",
    "We will also define an output layer with one node that uses the `Sigmoid` function as its activation function. The `Sigmoid` function is used as it converts the input into a value that is within the range of 0 to 1. This activation function is usually used for to predict the probability of a binary variable."
   ]
  },
  {
   "cell_type": "code",
   "execution_count": 28,
   "metadata": {},
   "outputs": [],
   "source": [
    "model = keras.Sequential()\n",
    "\n",
    "# Adding the first hidden layer\n",
    "model.add(layers.Dense(25, activation='relu', input_shape=(5,)))\n",
    "# Adding the second hidden layer\n",
    "model.add(layers.Dense(20, activation='relu'))\n",
    "# Adding the third hidden layer\n",
    "model.add(layers.Dense(20, activation='relu'))\n",
    "# Adding the output layer\n",
    "model.add(layers.Dense(1, activation='sigmoid'))"
   ]
  },
  {
   "attachments": {},
   "cell_type": "markdown",
   "metadata": {},
   "source": [
    "#### Compile and Fit\n",
    "After defining the nodes and layers, we will compile the model using the `Adam` optimizer, the `binary_crossentropy` loss function, and the `accuracy` class for metrics. The `Adam` optimizer is usually used as it is computationally efficient and requires minimal memory while the `binary_crossentropy` loss function is used since we are building a binary classification model.\n",
    "\n",
    "Next, we will fit the model with the training set with a validation split of 0.50, and epochs of 50."
   ]
  },
  {
   "cell_type": "code",
   "execution_count": 29,
   "metadata": {},
   "outputs": [
    {
     "name": "stderr",
     "output_type": "stream",
     "text": [
      "c:\\Users\\Acer\\AppData\\Local\\Programs\\Python\\Python310\\lib\\site-packages\\keras\\engine\\data_adapter.py:1696: FutureWarning: The behavior of `series[i:j]` with an integer-dtype index is deprecated. In a future version, this will be treated as *label-based* indexing, consistent with e.g. `series[i]` lookups. To retain the old behavior, use `series.iloc[i:j]`. To get the future behavior, use `series.loc[i:j]`.\n",
      "  return t[start:end]\n"
     ]
    },
    {
     "name": "stdout",
     "output_type": "stream",
     "text": [
      "Epoch 1/50\n",
      "1/1 [==============================] - 2s 2s/step - loss: 0.7044 - accuracy: 0.3889 - val_loss: 0.6086 - val_accuracy: 0.4444\n",
      "Epoch 2/50\n",
      "1/1 [==============================] - 0s 42ms/step - loss: 0.6826 - accuracy: 0.3889 - val_loss: 0.6025 - val_accuracy: 0.5000\n",
      "Epoch 3/50\n",
      "1/1 [==============================] - 0s 63ms/step - loss: 0.6624 - accuracy: 0.4444 - val_loss: 0.5974 - val_accuracy: 0.6667\n",
      "Epoch 4/50\n",
      "1/1 [==============================] - 0s 52ms/step - loss: 0.6434 - accuracy: 0.7778 - val_loss: 0.5942 - val_accuracy: 0.6667\n",
      "Epoch 5/50\n",
      "1/1 [==============================] - 0s 58ms/step - loss: 0.6256 - accuracy: 0.8333 - val_loss: 0.5921 - val_accuracy: 0.6111\n",
      "Epoch 6/50\n",
      "1/1 [==============================] - 0s 63ms/step - loss: 0.6097 - accuracy: 0.8333 - val_loss: 0.5920 - val_accuracy: 0.6667\n",
      "Epoch 7/50\n",
      "1/1 [==============================] - 0s 53ms/step - loss: 0.5973 - accuracy: 0.8333 - val_loss: 0.5922 - val_accuracy: 0.6667\n",
      "Epoch 8/50\n",
      "1/1 [==============================] - 0s 64ms/step - loss: 0.5860 - accuracy: 0.8333 - val_loss: 0.5929 - val_accuracy: 0.7222\n",
      "Epoch 9/50\n",
      "1/1 [==============================] - 0s 84ms/step - loss: 0.5753 - accuracy: 0.8333 - val_loss: 0.5939 - val_accuracy: 0.7222\n",
      "Epoch 10/50\n",
      "1/1 [==============================] - 0s 46ms/step - loss: 0.5654 - accuracy: 0.8333 - val_loss: 0.5949 - val_accuracy: 0.7222\n",
      "Epoch 11/50\n",
      "1/1 [==============================] - 0s 69ms/step - loss: 0.5561 - accuracy: 0.8333 - val_loss: 0.5959 - val_accuracy: 0.6667\n",
      "Epoch 12/50\n",
      "1/1 [==============================] - 0s 72ms/step - loss: 0.5476 - accuracy: 0.8333 - val_loss: 0.5966 - val_accuracy: 0.6667\n",
      "Epoch 13/50\n",
      "1/1 [==============================] - 0s 45ms/step - loss: 0.5399 - accuracy: 0.8333 - val_loss: 0.5973 - val_accuracy: 0.6667\n",
      "Epoch 14/50\n",
      "1/1 [==============================] - 0s 42ms/step - loss: 0.5325 - accuracy: 0.7778 - val_loss: 0.5976 - val_accuracy: 0.6667\n",
      "Epoch 15/50\n",
      "1/1 [==============================] - 0s 40ms/step - loss: 0.5254 - accuracy: 0.7778 - val_loss: 0.5974 - val_accuracy: 0.7222\n",
      "Epoch 16/50\n",
      "1/1 [==============================] - 0s 45ms/step - loss: 0.5187 - accuracy: 0.7778 - val_loss: 0.5969 - val_accuracy: 0.7778\n",
      "Epoch 17/50\n",
      "1/1 [==============================] - 0s 44ms/step - loss: 0.5121 - accuracy: 0.8333 - val_loss: 0.5960 - val_accuracy: 0.7778\n",
      "Epoch 18/50\n",
      "1/1 [==============================] - 0s 48ms/step - loss: 0.5058 - accuracy: 0.8889 - val_loss: 0.5944 - val_accuracy: 0.7778\n",
      "Epoch 19/50\n",
      "1/1 [==============================] - 0s 53ms/step - loss: 0.4994 - accuracy: 0.8889 - val_loss: 0.5922 - val_accuracy: 0.8333\n",
      "Epoch 20/50\n",
      "1/1 [==============================] - 0s 65ms/step - loss: 0.4929 - accuracy: 0.8889 - val_loss: 0.5892 - val_accuracy: 0.8333\n",
      "Epoch 21/50\n",
      "1/1 [==============================] - 0s 77ms/step - loss: 0.4864 - accuracy: 0.8889 - val_loss: 0.5855 - val_accuracy: 0.8333\n",
      "Epoch 22/50\n",
      "1/1 [==============================] - 0s 61ms/step - loss: 0.4798 - accuracy: 0.8889 - val_loss: 0.5811 - val_accuracy: 0.8333\n",
      "Epoch 23/50\n",
      "1/1 [==============================] - 0s 86ms/step - loss: 0.4733 - accuracy: 0.8889 - val_loss: 0.5762 - val_accuracy: 0.8333\n",
      "Epoch 24/50\n",
      "1/1 [==============================] - 0s 74ms/step - loss: 0.4667 - accuracy: 0.9444 - val_loss: 0.5707 - val_accuracy: 0.8333\n",
      "Epoch 25/50\n",
      "1/1 [==============================] - 0s 63ms/step - loss: 0.4602 - accuracy: 0.9444 - val_loss: 0.5647 - val_accuracy: 0.8333\n",
      "Epoch 26/50\n",
      "1/1 [==============================] - 0s 62ms/step - loss: 0.4534 - accuracy: 0.9444 - val_loss: 0.5582 - val_accuracy: 0.8333\n",
      "Epoch 27/50\n",
      "1/1 [==============================] - 0s 52ms/step - loss: 0.4466 - accuracy: 0.9444 - val_loss: 0.5516 - val_accuracy: 0.8889\n",
      "Epoch 28/50\n",
      "1/1 [==============================] - 0s 71ms/step - loss: 0.4396 - accuracy: 1.0000 - val_loss: 0.5447 - val_accuracy: 0.8889\n",
      "Epoch 29/50\n",
      "1/1 [==============================] - 0s 75ms/step - loss: 0.4325 - accuracy: 1.0000 - val_loss: 0.5376 - val_accuracy: 0.8889\n",
      "Epoch 30/50\n",
      "1/1 [==============================] - 0s 182ms/step - loss: 0.4253 - accuracy: 1.0000 - val_loss: 0.5303 - val_accuracy: 0.8889\n",
      "Epoch 31/50\n",
      "1/1 [==============================] - 0s 154ms/step - loss: 0.4181 - accuracy: 1.0000 - val_loss: 0.5229 - val_accuracy: 0.8889\n",
      "Epoch 32/50\n",
      "1/1 [==============================] - 0s 54ms/step - loss: 0.4109 - accuracy: 1.0000 - val_loss: 0.5154 - val_accuracy: 0.8889\n",
      "Epoch 33/50\n",
      "1/1 [==============================] - 0s 51ms/step - loss: 0.4039 - accuracy: 1.0000 - val_loss: 0.5084 - val_accuracy: 0.8889\n",
      "Epoch 34/50\n",
      "1/1 [==============================] - 0s 64ms/step - loss: 0.3969 - accuracy: 1.0000 - val_loss: 0.5016 - val_accuracy: 0.8889\n",
      "Epoch 35/50\n",
      "1/1 [==============================] - 0s 53ms/step - loss: 0.3900 - accuracy: 1.0000 - val_loss: 0.4949 - val_accuracy: 0.8889\n",
      "Epoch 36/50\n",
      "1/1 [==============================] - 0s 54ms/step - loss: 0.3830 - accuracy: 1.0000 - val_loss: 0.4884 - val_accuracy: 0.9444\n",
      "Epoch 37/50\n",
      "1/1 [==============================] - 0s 60ms/step - loss: 0.3759 - accuracy: 1.0000 - val_loss: 0.4820 - val_accuracy: 0.9444\n",
      "Epoch 38/50\n",
      "1/1 [==============================] - 0s 53ms/step - loss: 0.3690 - accuracy: 1.0000 - val_loss: 0.4757 - val_accuracy: 0.9444\n",
      "Epoch 39/50\n",
      "1/1 [==============================] - 0s 56ms/step - loss: 0.3624 - accuracy: 1.0000 - val_loss: 0.4695 - val_accuracy: 0.9444\n",
      "Epoch 40/50\n",
      "1/1 [==============================] - 0s 65ms/step - loss: 0.3559 - accuracy: 1.0000 - val_loss: 0.4634 - val_accuracy: 0.9444\n",
      "Epoch 41/50\n",
      "1/1 [==============================] - 0s 82ms/step - loss: 0.3495 - accuracy: 1.0000 - val_loss: 0.4573 - val_accuracy: 0.9444\n",
      "Epoch 42/50\n",
      "1/1 [==============================] - 0s 86ms/step - loss: 0.3431 - accuracy: 1.0000 - val_loss: 0.4511 - val_accuracy: 0.9444\n",
      "Epoch 43/50\n",
      "1/1 [==============================] - 0s 138ms/step - loss: 0.3368 - accuracy: 1.0000 - val_loss: 0.4448 - val_accuracy: 0.9444\n",
      "Epoch 44/50\n",
      "1/1 [==============================] - 0s 77ms/step - loss: 0.3305 - accuracy: 1.0000 - val_loss: 0.4385 - val_accuracy: 0.9444\n",
      "Epoch 45/50\n",
      "1/1 [==============================] - 0s 82ms/step - loss: 0.3241 - accuracy: 1.0000 - val_loss: 0.4320 - val_accuracy: 0.9444\n",
      "Epoch 46/50\n",
      "1/1 [==============================] - 0s 78ms/step - loss: 0.3178 - accuracy: 1.0000 - val_loss: 0.4255 - val_accuracy: 0.9444\n",
      "Epoch 47/50\n",
      "1/1 [==============================] - 0s 98ms/step - loss: 0.3114 - accuracy: 1.0000 - val_loss: 0.4192 - val_accuracy: 0.9444\n",
      "Epoch 48/50\n",
      "1/1 [==============================] - 0s 111ms/step - loss: 0.3050 - accuracy: 1.0000 - val_loss: 0.4128 - val_accuracy: 0.9444\n",
      "Epoch 49/50\n",
      "1/1 [==============================] - 0s 153ms/step - loss: 0.2987 - accuracy: 1.0000 - val_loss: 0.4067 - val_accuracy: 0.9444\n",
      "Epoch 50/50\n",
      "1/1 [==============================] - 0s 70ms/step - loss: 0.2924 - accuracy: 1.0000 - val_loss: 0.4008 - val_accuracy: 0.9444\n"
     ]
    }
   ],
   "source": [
    "model.compile(optimizer='adam', loss='binary_crossentropy', metrics=['accuracy'])\n",
    "NN = model.fit(X_train, Y_train, validation_split=0.50, epochs=50)"
   ]
  },
  {
   "attachments": {},
   "cell_type": "markdown",
   "metadata": {},
   "source": [
    "### Evaluating the Model\n",
    "\n",
    "We will evaluate the model using the training and testing sets."
   ]
  },
  {
   "cell_type": "code",
   "execution_count": 30,
   "metadata": {},
   "outputs": [
    {
     "name": "stdout",
     "output_type": "stream",
     "text": [
      "2/2 [==============================] - 0s 12ms/step - loss: 0.3435 - accuracy: 0.9722\n"
     ]
    },
    {
     "data": {
      "text/plain": [
       "[0.3434736430644989, 0.9722222089767456]"
      ]
     },
     "execution_count": 30,
     "metadata": {},
     "output_type": "execute_result"
    }
   ],
   "source": [
    "# Model evaluation with the training set\n",
    "model.evaluate(X_train, Y_train)"
   ]
  },
  {
   "cell_type": "code",
   "execution_count": 31,
   "metadata": {},
   "outputs": [
    {
     "name": "stdout",
     "output_type": "stream",
     "text": [
      "1/1 [==============================] - 0s 33ms/step - loss: 0.3911 - accuracy: 0.9000\n"
     ]
    },
    {
     "data": {
      "text/plain": [
       "[0.39108169078826904, 0.8999999761581421]"
      ]
     },
     "execution_count": 31,
     "metadata": {},
     "output_type": "execute_result"
    }
   ],
   "source": [
    "# Model evaluation with the testing set\n",
    "model.evaluate(X_test, Y_test)"
   ]
  },
  {
   "attachments": {},
   "cell_type": "markdown",
   "metadata": {},
   "source": [
    "### Confusion Matrix\n",
    "Here, we will be able to see the correct and incorrect classification with the testing dataset"
   ]
  },
  {
   "cell_type": "code",
   "execution_count": 32,
   "metadata": {},
   "outputs": [],
   "source": [
    "from sklearn.metrics import confusion_matrix"
   ]
  },
  {
   "cell_type": "code",
   "execution_count": 33,
   "metadata": {},
   "outputs": [
    {
     "name": "stdout",
     "output_type": "stream",
     "text": [
      "1/1 [==============================] - 0s 169ms/step\n"
     ]
    },
    {
     "data": {
      "text/plain": [
       "array([[2, 1],\n",
       "       [0, 7]], dtype=int64)"
      ]
     },
     "execution_count": 33,
     "metadata": {},
     "output_type": "execute_result"
    }
   ],
   "source": [
    "Y_pred = (model.predict(X_test) > 0.5).astype(\"int32\")\n",
    "confusion_matrix(Y_test, Y_pred)"
   ]
  },
  {
   "attachments": {},
   "cell_type": "markdown",
   "metadata": {},
   "source": [
    "### Plotting the Training"
   ]
  },
  {
   "cell_type": "code",
   "execution_count": 34,
   "metadata": {},
   "outputs": [
    {
     "data": {
      "image/png": "[encoded data removed]",
      "text/plain": [
       "<Figure size 640x480 with 1 Axes>"
      ]
     },
     "metadata": {},
     "output_type": "display_data"
    }
   ],
   "source": [
    "plt.plot(NN.history['accuracy'])\n",
    "plt.plot(NN.history['val_accuracy'])\n",
    "plt.title('Model Accuracy')\n",
    "plt.ylabel('Accuracy')\n",
    "plt.xlabel('Epoch')\n",
    "plt.legend(['Train', 'Validation'], loc='upper left')\n",
    "plt.show()"
   ]
  },
  {
   "cell_type": "code",
   "execution_count": 35,
   "metadata": {},
   "outputs": [
    {
     "data": {
      "image/png": "[encoded data removed]",
      "text/plain": [
       "<Figure size 640x480 with 1 Axes>"
      ]
     },
     "metadata": {},
     "output_type": "display_data"
    }
   ],
   "source": [
    "plt.plot(NN.history['loss'])\n",
    "plt.plot(NN.history['val_loss'])\n",
    "plt.title('Model Loss')\n",
    "plt.ylabel('Loss')\n",
    "plt.xlabel('Epoch')\n",
    "plt.legend(['Train', 'Validation'], loc='upper left')\n",
    "plt.show()"
   ]
  },
  {
   "attachments": {},
   "cell_type": "markdown",
   "metadata": {},
   "source": [
    "Based on the graphs, the training of the model showed that the model's accuracy improved and the loss was reduced."
   ]
  },
  {
   "attachments": {},
   "cell_type": "markdown",
   "metadata": {},
   "source": [
    "#### Making Predictions\n",
    "Using our findings in our exploratory data analysis, we will test if our model will be able to correctly predict the target usage of a given computer specifications."
   ]
  },
  {
   "cell_type": "code",
   "execution_count": 36,
   "metadata": {},
   "outputs": [],
   "source": [
    "# Creating a function to classify the usage of the computer specifications\n",
    "def classify_usage(prediction):\n",
    "    if prediction == 0:\n",
    "        print(\"The CPU is suited to use for OFFICE\")\n",
    "    else:\n",
    "        print(\"The CPU is suited to use for GAMING\")"
   ]
  },
  {
   "cell_type": "code",
   "execution_count": 40,
   "metadata": {},
   "outputs": [
    {
     "name": "stdout",
     "output_type": "stream",
     "text": [
      "1/1 [==============================] - 0s 49ms/step\n",
      "The CPU is suited to use for OFFICE\n"
     ]
    }
   ],
   "source": [
    "# Testing the model with the most used CPU, RAM, Storage Type, Storage Capacity, and GPU for OFFICE use\n",
    "features = np.array([[0, 0, 1, 1, 0]]) \n",
    "\n",
    "prediction = (model.predict(features) > 0.5).astype(\"int32\")\n",
    "classify_usage(prediction)\n",
    "    "
   ]
  },
  {
   "cell_type": "code",
   "execution_count": 39,
   "metadata": {},
   "outputs": [
    {
     "name": "stdout",
     "output_type": "stream",
     "text": [
      "1/1 [==============================] - 0s 39ms/step\n",
      "The CPU is suited to use for GAMING\n"
     ]
    }
   ],
   "source": [
    "# Testing the model with the most used CPU, RAM, Storage Type, Storage Capacity, and GPU for GAMING use\n",
    "features = np.array([[3, 2, 0, 0, 2]])\n",
    "\n",
    "prediction = (model.predict(features) > 0.5).astype(\"int32\")\n",
    "classify_usage(prediction)\n",
    "    "
   ]
  }
 ],
 "metadata": {
  "kernelspec": {
   "display_name": "Python 3",
   "language": "python",
   "name": "python3"
  },
  "language_info": {
   "codemirror_mode": {
    "name": "ipython",
    "version": 3
   },
   "file_extension": ".py",
   "mimetype": "text/x-python",
   "name": "python",
   "nbconvert_exporter": "python",
   "pygments_lexer": "ipython3",
   "version": "3.10.2 (tags/v3.10.2:a58ebcc, Jan 17 2022, 14:12:15) [MSC v.1929 64 bit (AMD64)]"
  },
  "orig_nbformat": 4,
  "vscode": {
   "interpreter": {
    "hash": "58837b1b657ea91009af8409fc244ae3b5ccf93ea980d6fb6b80adc5f697f4cc"
   }
  }
 },
 "nbformat": 4,
 "nbformat_minor": 2
}
